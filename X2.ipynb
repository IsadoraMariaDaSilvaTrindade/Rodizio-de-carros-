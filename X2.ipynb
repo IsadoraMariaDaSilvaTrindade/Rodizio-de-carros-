{
  "nbformat": 4,
  "nbformat_minor": 0,
  "metadata": {
    "colab": {
      "provenance": [],
      "authorship_tag": "ABX9TyMYq8GuvB8tBlf6S12Frup3",
      "include_colab_link": true
    },
    "kernelspec": {
      "name": "python3",
      "display_name": "Python 3"
    },
    "language_info": {
      "name": "python"
    }
  },
  "cells": [
    {
      "cell_type": "markdown",
      "metadata": {
        "id": "view-in-github",
        "colab_type": "text"
      },
      "source": [
        "<a href=\"https://colab.research.google.com/github/IsadoraMariaDaSilvaTrindade/Rodizio-de-carros-/blob/main/X2.ipynb\" target=\"_parent\"><img src=\"https://colab.research.google.com/assets/colab-badge.svg\" alt=\"Open In Colab\"/></a>"
      ]
    },
    {
      "cell_type": "code",
      "execution_count": null,
      "metadata": {
        "colab": {
          "base_uri": "https://localhost:8080/"
        },
        "id": "Jg1FOa33Ge8J",
        "outputId": "6e5b8a95-c6f1-4efe-bd7d-e3d96173db41"
      },
      "outputs": [
        {
          "output_type": "stream",
          "name": "stdout",
          "text": [
            "Atribuições dos dias da semana na seguinte ordem: Segunda = 21, Terça = 22, Quarta = 23, Quinta = 24, Sexta = 25\n",
            "Por favor que dia e hoje?:7\n",
            "Fale o último número de sua placa de quarto :3\n",
            "Se a placa do seu veiculo terminar em 1 ou 2, você só pode transitar as Segunda\n",
            "Se a placa do seu veiculo terminar em 3 ou4 , somente Terça\n",
            "Trasintar as :Quarta\n",
            "Transitar as: Quinta\n",
            "Você não pode transitar\n"
          ]
        }
      ],
      "source": [
        "print(\"Atribuições dos dias da semana na seguinte ordem: Segunda = 21, Terça = 22, Quarta = 23, Quinta = 24, Sexta = 25\")\n",
        "dia = int(input(\"Por favor que dia e hoje?:\"))\n",
        "A = float(input(\"Fale o último número de sua placa de quarto :\"))\n",
        "if A == 1 or 2:\n",
        "  print(\"Se a placa do seu veiculo terminar em 1 ou 2, você só pode transitar as Segunda\")\n",
        "  if dia == 21:\n",
        "    print(\"Você pode transitar\")\n",
        "else:\n",
        "    print(\"Você não pode transitar\")\n",
        "if A == 3 or 4:\n",
        "  print(\"Se a placa do seu veiculo terminar em 3 ou4 , somente Terça\")\n",
        "  if dia == 22:\n",
        "    print(\"Você pode transitar\")\n",
        "else:\n",
        "    print(\"Você não pode transitar\")\n",
        "if A == 5 or 6:\n",
        "  print(\"Trasintar as :Quarta\")\n",
        "  if dia == 23:\n",
        "   print(\"Você pode transitar hoje\")\n",
        "else:\n",
        "   print(\"Você não pode transitar hoje\")\n",
        "if A == 7 or 8:\n",
        "  print(\"Transitar as: Quinta\")\n",
        "  if dia == 24:\n",
        "   print(\"Você pode transitar\")\n",
        "else:\n",
        "  print(\"Você não pode transitar\")\n",
        "if A == 9 or 0:\n",
        "  print(\"Transitar as : Sexta\")\n",
        "  if dia == 25:\n",
        "   print(\"Você pode transitar\")\n",
        "else:\n",
        "   print(\"Você não pode transitar\")\n",
        "\n"
      ]
    }
  ]
}